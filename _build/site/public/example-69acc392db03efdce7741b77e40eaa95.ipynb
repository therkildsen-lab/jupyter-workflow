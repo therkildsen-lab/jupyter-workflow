{
 "cells": [
  {
   "cell_type": "markdown",
   "metadata": {},
   "source": [
    "# Example Jupyter Notebook\n",
    "Here are some basic elements of a Jupyter Notebook and how they render via JupyterBook to create this site."
   ]
  },
  {
   "cell_type": "markdown",
   "metadata": {},
   "source": [
    "To make nice headers, use standard markdown `#` syntax, where\n",
    "```markdown\n",
    "# Heading 1\n",
    "## Heading 2\n",
    "### Heading 3\n",
    "#### etc...\n",
    "```\n",
    "becomes\n",
    "\n",
    "# Heading 1\n",
    "## Heading 2\n",
    "### Heading 3\n",
    "### Heading 4\n",
    "\n",
    ":::{warning}\n",
    "Use only one top-level header. Because each page must have a clear title, it must also only have one top-level header. You cannot have multiple headers with single # tag in them.\n",
    ":::"
   ]
  },
  {
   "cell_type": "markdown",
   "metadata": {},
   "source": [
    "Regular text can be made **bold** with double-asterisks \n",
    "```markdown\n",
    "**bunch of bold text**\n",
    "```\n",
    "becomes **bunch of bold text**\n",
    "\n",
    "And the same is true for using an underscore for _italics_\n",
    "```markdown\n",
    "_suggestive italics text_\n",
    "```\n",
    "becomes _suggestive italics text_"
   ]
  },
  {
   "cell_type": "markdown",
   "metadata": {},
   "source": [
    "Use `-` to make unordered (bulleted) lists\n",
    "```markdown\n",
    "- item\n",
    "- another item\n",
    "- yet another item\n",
    "```\n",
    "becomes\n",
    "- item\n",
    "- another item\n",
    "- yet another item\n"
   ]
  },
  {
   "cell_type": "markdown",
   "metadata": {},
   "source": [
    "Create [hyperlinks](https://www.youtube.com) from text using:\n",
    "```markdown\n",
    "[hyperlinks](https://www.youtube.com)\n",
    "```\n",
    "Add an exclamation point to the beginning and you're embedding an image (can be local or url)\n",
    "```markdown\n",
    "Look at this ![alt_text of image](https://wallpapers.com/images/hd/elephant-background-kl16hvsjxq9g1rs5.jpg)\n",
    "```\n",
    "\n",
    "Look at this ![alt_text of image](https://wallpapers.com/images/hd/elephant-background-kl16hvsjxq9g1rs5.jpg)"
   ]
  },
  {
   "cell_type": "markdown",
   "metadata": {},
   "source": [
    "Use `1.` to make ordered (numbered) lists\n",
    "```markdown\n",
    "1. eggs\n",
    "2. avocado\n",
    "3. rye toast\n",
    "```\n",
    "becomes \n",
    "1. eggs\n",
    "2. avocado\n",
    "3. rye toast"
   ]
  },
  {
   "cell_type": "markdown",
   "metadata": {
    "vscode": {
     "languageId": "plaintext"
    }
   },
   "source": [
    "## MyST-specific perks\n",
    "Jupyterbook uses an extension of Markdown called MyST that is more feature-rich than standard markdown. We won't highlight them all here, but [there is a great cheat sheet](https://jupyterbook.org/en/stable/reference/cheatsheet.html#admonitions).\n",
    "\n",
    "You can create fun/useful [admonitions](https://mystmd.org/guide/admonitions) to give important heads-ups. \n",
    "\n",
    "```markdown\n",
    ":::{tip}\n",
    "Try changing `tip` to `warning`!\n",
    ":::\n",
    "```\n",
    "\n",
    "becomes \n",
    "\n",
    ":::{tip}\n",
    "Try changing `tip` to `warning`!\n",
    ":::"
   ]
  },
  {
   "cell_type": "markdown",
   "metadata": {},
   "source": [
    "## Code and execution\n",
    "Where Jupyter Notebooks shine is that code cells can be executed, and the notebook captures the output of the cell, storing the output into the notebook. So, grab your favorite langauge kernel (Python, R, Julia, bash, whatever), which may require separate installation, and run the code you need."
   ]
  },
  {
   "cell_type": "markdown",
   "metadata": {},
   "source": [
    "### Bash\n",
    "We use bash a lot of time, and Jupyter has a series of \"[magics](https://ipython.readthedocs.io/en/stable/interactive/magics.html)\" that are a short magic term that goes at the top of a code cell and modifies how it runs. One of the most useful for bioinformatics is the `%%shell` magic. Add that to the top of a code cell and Jupyter will execute it as shell code. Example:\n",
    "\n",
    "```bash\n",
    "%%shell\n",
    "\n",
    "for i in {1..10}; do\n",
    "  touch file.${i}.txt\n",
    "done\n",
    "\n",
    "```"
   ]
  },
  {
   "cell_type": "markdown",
   "metadata": {},
   "source": [
    "### R code\n",
    "You're probably going to use R a bunch. For that you'll need [IRKernel](https://github.com/IRkernel/IRkernel). Installation is pretty simple. This will let you load the R kernel in Jupyter and execute R code, once again letting Jupyter capture the output in the cells. Below are some examples."
   ]
  },
  {
   "cell_type": "code",
   "execution_count": 1,
   "metadata": {
    "vscode": {
     "languageId": "r"
    }
   },
   "outputs": [
    {
     "data": {
      "text/html": [
       "2.68771335871922"
      ],
      "text/latex": [
       "2.68771335871922"
      ],
      "text/markdown": [
       "2.68771335871922"
      ],
      "text/plain": [
       "[1] 2.687713"
      ]
     },
     "metadata": {},
     "output_type": "display_data"
    }
   ],
   "source": [
    "max(rnorm(50))"
   ]
  },
  {
   "cell_type": "code",
   "execution_count": 2,
   "metadata": {
    "vscode": {
     "languageId": "r"
    }
   },
   "outputs": [
    {
     "data": {
      "image/png": "[encoded data removed]",
      "text/plain": [
       "plot without title"
      ]
     },
     "metadata": {
      "image/png": {
       "height": 420,
       "width": 420
      }
     },
     "output_type": "display_data"
    }
   ],
   "source": [
    "plot(x = runif(30), y = rnorm(30), pch = 19, col = \"indianred\")"
   ]
  }
 ],
 "metadata": {
  "kernelspec": {
   "display_name": "R",
   "language": "R",
   "name": "ir"
  },
  "language_info": {
   "codemirror_mode": "r",
   "file_extension": ".r",
   "mimetype": "text/x-r-source",
   "name": "R",
   "pygments_lexer": "r",
   "version": "4.4.2"
  }
 },
 "nbformat": 4,
 "nbformat_minor": 2
}
